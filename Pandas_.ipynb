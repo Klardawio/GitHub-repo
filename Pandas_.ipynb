{
  "nbformat": 4,
  "nbformat_minor": 0,
  "metadata": {
    "colab": {
      "name": "Pandas .ipynb",
      "provenance": [],
      "authorship_tag": "ABX9TyNbebylRqv1D7gbrtjS6tOB",
      "include_colab_link": true
    },
    "kernelspec": {
      "name": "python3",
      "display_name": "Python 3"
    },
    "language_info": {
      "name": "python"
    }
  },
  "cells": [
    {
      "cell_type": "markdown",
      "metadata": {
        "id": "view-in-github",
        "colab_type": "text"
      },
      "source": [
        "<a href=\"https://colab.research.google.com/github/Klardawio/GitHub-repo/blob/main/Pandas_.ipynb\" target=\"_parent\"><img src=\"https://colab.research.google.com/assets/colab-badge.svg\" alt=\"Open In Colab\"/></a>"
      ]
    },
    {
      "cell_type": "code",
      "metadata": {
        "colab": {
          "base_uri": "https://localhost:8080/",
          "height": 257
        },
        "id": "IO_LYv3HwiLw",
        "outputId": "4e0ce56d-c34f-4fca-b359-9ac16d25a771"
      },
      "source": [
        "import pandas as pd\n",
        "\n",
        "bookings = pd.read_csv('https://stepik.org/media/attachments/lesson/360344/bookings.csv', sep=';')\n",
        "bookings.head(3)"
      ],
      "execution_count": 253,
      "outputs": [
        {
          "output_type": "execute_result",
          "data": {
            "text/html": [
              "<div>\n",
              "<style scoped>\n",
              "    .dataframe tbody tr th:only-of-type {\n",
              "        vertical-align: middle;\n",
              "    }\n",
              "\n",
              "    .dataframe tbody tr th {\n",
              "        vertical-align: top;\n",
              "    }\n",
              "\n",
              "    .dataframe thead th {\n",
              "        text-align: right;\n",
              "    }\n",
              "</style>\n",
              "<table border=\"1\" class=\"dataframe\">\n",
              "  <thead>\n",
              "    <tr style=\"text-align: right;\">\n",
              "      <th></th>\n",
              "      <th>Hotel</th>\n",
              "      <th>Is Canceled</th>\n",
              "      <th>Lead Time</th>\n",
              "      <th>arrival full date</th>\n",
              "      <th>Arrival Date Year</th>\n",
              "      <th>Arrival Date Month</th>\n",
              "      <th>Arrival Date Week Number</th>\n",
              "      <th>Arrival Date Day of Month</th>\n",
              "      <th>Stays in Weekend nights</th>\n",
              "      <th>Stays in week nights</th>\n",
              "      <th>stays total nights</th>\n",
              "      <th>Adults</th>\n",
              "      <th>Children</th>\n",
              "      <th>Babies</th>\n",
              "      <th>Meal</th>\n",
              "      <th>Country</th>\n",
              "      <th>Reserved Room Type</th>\n",
              "      <th>Assigned room type</th>\n",
              "      <th>customer type</th>\n",
              "      <th>Reservation Status</th>\n",
              "      <th>Reservation status_date</th>\n",
              "    </tr>\n",
              "  </thead>\n",
              "  <tbody>\n",
              "    <tr>\n",
              "      <th>0</th>\n",
              "      <td>Resort Hotel</td>\n",
              "      <td>0</td>\n",
              "      <td>342</td>\n",
              "      <td>2015-07-01</td>\n",
              "      <td>2015</td>\n",
              "      <td>July</td>\n",
              "      <td>27</td>\n",
              "      <td>1</td>\n",
              "      <td>0</td>\n",
              "      <td>0</td>\n",
              "      <td>0</td>\n",
              "      <td>2</td>\n",
              "      <td>0.0</td>\n",
              "      <td>0</td>\n",
              "      <td>BB</td>\n",
              "      <td>PRT</td>\n",
              "      <td>C</td>\n",
              "      <td>C</td>\n",
              "      <td>Transient</td>\n",
              "      <td>Check-Out</td>\n",
              "      <td>2015-07-01</td>\n",
              "    </tr>\n",
              "    <tr>\n",
              "      <th>1</th>\n",
              "      <td>Resort Hotel</td>\n",
              "      <td>0</td>\n",
              "      <td>737</td>\n",
              "      <td>2015-07-01</td>\n",
              "      <td>2015</td>\n",
              "      <td>July</td>\n",
              "      <td>27</td>\n",
              "      <td>1</td>\n",
              "      <td>0</td>\n",
              "      <td>0</td>\n",
              "      <td>0</td>\n",
              "      <td>2</td>\n",
              "      <td>0.0</td>\n",
              "      <td>0</td>\n",
              "      <td>BB</td>\n",
              "      <td>PRT</td>\n",
              "      <td>C</td>\n",
              "      <td>C</td>\n",
              "      <td>Transient</td>\n",
              "      <td>Check-Out</td>\n",
              "      <td>2015-07-01</td>\n",
              "    </tr>\n",
              "    <tr>\n",
              "      <th>2</th>\n",
              "      <td>Resort Hotel</td>\n",
              "      <td>0</td>\n",
              "      <td>7</td>\n",
              "      <td>2015-07-01</td>\n",
              "      <td>2015</td>\n",
              "      <td>July</td>\n",
              "      <td>27</td>\n",
              "      <td>1</td>\n",
              "      <td>0</td>\n",
              "      <td>1</td>\n",
              "      <td>1</td>\n",
              "      <td>1</td>\n",
              "      <td>0.0</td>\n",
              "      <td>0</td>\n",
              "      <td>BB</td>\n",
              "      <td>GBR</td>\n",
              "      <td>A</td>\n",
              "      <td>C</td>\n",
              "      <td>Transient</td>\n",
              "      <td>Check-Out</td>\n",
              "      <td>2015-07-02</td>\n",
              "    </tr>\n",
              "  </tbody>\n",
              "</table>\n",
              "</div>"
            ],
            "text/plain": [
              "          Hotel  Is Canceled  ...  Reservation Status Reservation status_date\n",
              "0  Resort Hotel            0  ...           Check-Out              2015-07-01\n",
              "1  Resort Hotel            0  ...           Check-Out              2015-07-01\n",
              "2  Resort Hotel            0  ...           Check-Out              2015-07-02\n",
              "\n",
              "[3 rows x 21 columns]"
            ]
          },
          "metadata": {
            "tags": []
          },
          "execution_count": 253
        }
      ]
    },
    {
      "cell_type": "markdown",
      "metadata": {
        "id": "Rr12Cr4b0Z7y"
      },
      "source": [
        "**Описание данных**\\\n",
        "Имеются следующие переменные:\n",
        "\n",
        "- Hotel – тип отеля (City Hotel или Resort Hotel)  \n",
        "- Is canceled – бронирование было отменено (1) или нет (0); неотменённое считается успешным\n",
        "- Lead time – количество дней, прошедших между датой бронирования и датой прибытия  \n",
        "- Arrival full date – полная дата прибытия\n",
        "- Arrival date year – год прибытия  \n",
        "- Arrival date month – месяц прибытия  \n",
        "- Arrival date week number – номер недели прибытия\n",
        "- Arrival date day of month – день прибытия\n",
        "- Stays in weekend nights – количество выходных (суббота или воскресенье), - которые гость забронировал для проживания в отеле\n",
        "- Stays in week nights – количество дней (с понедельника по пятницу), которые гость забронировал для проживания в отеле\n",
        "- Stays total nights – общее число забронированных ночей (сумма двух предыдущих колонок)\n",
        "- Adults – число взрослых\n",
        "- Children – число детей\n",
        "- Babies – число младенцев \n",
        "- Meal – выбранный тип питания\n",
        "- Country – страна происхождения клиента\n",
        "- Reserved room type – тип зарезервированного номера\n",
        "- Assigned room type – тип полученного номера (может отличаться от забронированного)\n",
        "- Customer type – тип бронирования\n",
        "- Reservation status – значение последнего статуса брони: Canceled – было отменено клиентом; Check-Out – клиент зарегистрировался, но уже покинул отель; - No-Show – клиент не зарегистрировался и сообщил администрации отеля причину\n",
        "- Reservation status date – дата обновления статуса"
      ]
    },
    {
      "cell_type": "code",
      "metadata": {
        "id": "jcvzxTY0xKEo"
      },
      "source": [
        "# Приводим названия колонок к нижнему регистру и заменяем пробелы на нижнее подчеркивание\n",
        "\n",
        "bookings.rename(columns = lambda c: c.lower().replace(' ', '_'), inplace=True)"
      ],
      "execution_count": 254,
      "outputs": []
    },
    {
      "cell_type": "code",
      "metadata": {
        "colab": {
          "base_uri": "https://localhost:8080/"
        },
        "id": "8XQYoFC41p6z",
        "outputId": "1d7569e5-6521-4c08-d260-1921d124857f"
      },
      "source": [
        "bookings.info()"
      ],
      "execution_count": 255,
      "outputs": [
        {
          "output_type": "stream",
          "text": [
            "<class 'pandas.core.frame.DataFrame'>\n",
            "RangeIndex: 119390 entries, 0 to 119389\n",
            "Data columns (total 21 columns):\n",
            " #   Column                     Non-Null Count   Dtype  \n",
            "---  ------                     --------------   -----  \n",
            " 0   hotel                      119390 non-null  object \n",
            " 1   is_canceled                119390 non-null  int64  \n",
            " 2   lead_time                  119390 non-null  int64  \n",
            " 3   arrival_full_date          119390 non-null  object \n",
            " 4   arrival_date_year          119390 non-null  int64  \n",
            " 5   arrival_date_month         119390 non-null  object \n",
            " 6   arrival_date_week_number   119390 non-null  int64  \n",
            " 7   arrival_date_day_of_month  119390 non-null  int64  \n",
            " 8   stays_in_weekend_nights    119390 non-null  int64  \n",
            " 9   stays_in_week_nights       119390 non-null  int64  \n",
            " 10  stays_total_nights         119390 non-null  int64  \n",
            " 11  adults                     119390 non-null  int64  \n",
            " 12  children                   119386 non-null  float64\n",
            " 13  babies                     119390 non-null  int64  \n",
            " 14  meal                       119390 non-null  object \n",
            " 15  country                    118902 non-null  object \n",
            " 16  reserved_room_type         119390 non-null  object \n",
            " 17  assigned_room_type         119390 non-null  object \n",
            " 18  customer_type              119390 non-null  object \n",
            " 19  reservation_status         119390 non-null  object \n",
            " 20  reservation_status_date    119390 non-null  object \n",
            "dtypes: float64(1), int64(10), object(10)\n",
            "memory usage: 19.1+ MB\n"
          ],
          "name": "stdout"
        }
      ]
    },
    {
      "cell_type": "markdown",
      "metadata": {
        "id": "_x509DK217ME"
      },
      "source": [
        "Некоторые данные отсуствуют в колонках children и country"
      ]
    },
    {
      "cell_type": "code",
      "metadata": {
        "colab": {
          "base_uri": "https://localhost:8080/",
          "height": 307
        },
        "id": "jugtVLtJRrBl",
        "outputId": "c341f456-e4fd-406e-e265-adaeff9a1835"
      },
      "source": [
        "bookings.describe()"
      ],
      "execution_count": 256,
      "outputs": [
        {
          "output_type": "execute_result",
          "data": {
            "text/html": [
              "<div>\n",
              "<style scoped>\n",
              "    .dataframe tbody tr th:only-of-type {\n",
              "        vertical-align: middle;\n",
              "    }\n",
              "\n",
              "    .dataframe tbody tr th {\n",
              "        vertical-align: top;\n",
              "    }\n",
              "\n",
              "    .dataframe thead th {\n",
              "        text-align: right;\n",
              "    }\n",
              "</style>\n",
              "<table border=\"1\" class=\"dataframe\">\n",
              "  <thead>\n",
              "    <tr style=\"text-align: right;\">\n",
              "      <th></th>\n",
              "      <th>is_canceled</th>\n",
              "      <th>lead_time</th>\n",
              "      <th>arrival_date_year</th>\n",
              "      <th>arrival_date_week_number</th>\n",
              "      <th>arrival_date_day_of_month</th>\n",
              "      <th>stays_in_weekend_nights</th>\n",
              "      <th>stays_in_week_nights</th>\n",
              "      <th>stays_total_nights</th>\n",
              "      <th>adults</th>\n",
              "      <th>children</th>\n",
              "      <th>babies</th>\n",
              "    </tr>\n",
              "  </thead>\n",
              "  <tbody>\n",
              "    <tr>\n",
              "      <th>count</th>\n",
              "      <td>119390.000000</td>\n",
              "      <td>119390.000000</td>\n",
              "      <td>119390.000000</td>\n",
              "      <td>119390.000000</td>\n",
              "      <td>119390.000000</td>\n",
              "      <td>119390.000000</td>\n",
              "      <td>119390.000000</td>\n",
              "      <td>119390.000000</td>\n",
              "      <td>119390.000000</td>\n",
              "      <td>119386.000000</td>\n",
              "      <td>119390.000000</td>\n",
              "    </tr>\n",
              "    <tr>\n",
              "      <th>mean</th>\n",
              "      <td>0.370416</td>\n",
              "      <td>104.011416</td>\n",
              "      <td>2016.156554</td>\n",
              "      <td>27.165173</td>\n",
              "      <td>15.798241</td>\n",
              "      <td>0.927599</td>\n",
              "      <td>2.500302</td>\n",
              "      <td>3.427900</td>\n",
              "      <td>1.856403</td>\n",
              "      <td>0.103890</td>\n",
              "      <td>0.007949</td>\n",
              "    </tr>\n",
              "    <tr>\n",
              "      <th>std</th>\n",
              "      <td>0.482918</td>\n",
              "      <td>106.863097</td>\n",
              "      <td>0.707476</td>\n",
              "      <td>13.605138</td>\n",
              "      <td>8.780829</td>\n",
              "      <td>0.998613</td>\n",
              "      <td>1.908286</td>\n",
              "      <td>2.557439</td>\n",
              "      <td>0.579261</td>\n",
              "      <td>0.398561</td>\n",
              "      <td>0.097436</td>\n",
              "    </tr>\n",
              "    <tr>\n",
              "      <th>min</th>\n",
              "      <td>0.000000</td>\n",
              "      <td>0.000000</td>\n",
              "      <td>2015.000000</td>\n",
              "      <td>1.000000</td>\n",
              "      <td>1.000000</td>\n",
              "      <td>0.000000</td>\n",
              "      <td>0.000000</td>\n",
              "      <td>0.000000</td>\n",
              "      <td>0.000000</td>\n",
              "      <td>0.000000</td>\n",
              "      <td>0.000000</td>\n",
              "    </tr>\n",
              "    <tr>\n",
              "      <th>25%</th>\n",
              "      <td>0.000000</td>\n",
              "      <td>18.000000</td>\n",
              "      <td>2016.000000</td>\n",
              "      <td>16.000000</td>\n",
              "      <td>8.000000</td>\n",
              "      <td>0.000000</td>\n",
              "      <td>1.000000</td>\n",
              "      <td>2.000000</td>\n",
              "      <td>2.000000</td>\n",
              "      <td>0.000000</td>\n",
              "      <td>0.000000</td>\n",
              "    </tr>\n",
              "    <tr>\n",
              "      <th>50%</th>\n",
              "      <td>0.000000</td>\n",
              "      <td>69.000000</td>\n",
              "      <td>2016.000000</td>\n",
              "      <td>28.000000</td>\n",
              "      <td>16.000000</td>\n",
              "      <td>1.000000</td>\n",
              "      <td>2.000000</td>\n",
              "      <td>3.000000</td>\n",
              "      <td>2.000000</td>\n",
              "      <td>0.000000</td>\n",
              "      <td>0.000000</td>\n",
              "    </tr>\n",
              "    <tr>\n",
              "      <th>75%</th>\n",
              "      <td>1.000000</td>\n",
              "      <td>160.000000</td>\n",
              "      <td>2017.000000</td>\n",
              "      <td>38.000000</td>\n",
              "      <td>23.000000</td>\n",
              "      <td>2.000000</td>\n",
              "      <td>3.000000</td>\n",
              "      <td>4.000000</td>\n",
              "      <td>2.000000</td>\n",
              "      <td>0.000000</td>\n",
              "      <td>0.000000</td>\n",
              "    </tr>\n",
              "    <tr>\n",
              "      <th>max</th>\n",
              "      <td>1.000000</td>\n",
              "      <td>737.000000</td>\n",
              "      <td>2017.000000</td>\n",
              "      <td>53.000000</td>\n",
              "      <td>31.000000</td>\n",
              "      <td>19.000000</td>\n",
              "      <td>50.000000</td>\n",
              "      <td>69.000000</td>\n",
              "      <td>55.000000</td>\n",
              "      <td>10.000000</td>\n",
              "      <td>10.000000</td>\n",
              "    </tr>\n",
              "  </tbody>\n",
              "</table>\n",
              "</div>"
            ],
            "text/plain": [
              "         is_canceled      lead_time  ...       children         babies\n",
              "count  119390.000000  119390.000000  ...  119386.000000  119390.000000\n",
              "mean        0.370416     104.011416  ...       0.103890       0.007949\n",
              "std         0.482918     106.863097  ...       0.398561       0.097436\n",
              "min         0.000000       0.000000  ...       0.000000       0.000000\n",
              "25%         0.000000      18.000000  ...       0.000000       0.000000\n",
              "50%         0.000000      69.000000  ...       0.000000       0.000000\n",
              "75%         1.000000     160.000000  ...       0.000000       0.000000\n",
              "max         1.000000     737.000000  ...      10.000000      10.000000\n",
              "\n",
              "[8 rows x 11 columns]"
            ]
          },
          "metadata": {
            "tags": []
          },
          "execution_count": 256
        }
      ]
    },
    {
      "cell_type": "code",
      "metadata": {
        "colab": {
          "base_uri": "https://localhost:8080/"
        },
        "id": "EYAhX_U_zszu",
        "outputId": "4090c843-e74e-4e5b-a23f-81d67258ed02"
      },
      "source": [
        "# ТОП-5 стран по количеству успешных бронирований\n",
        "\n",
        "bookings.query('is_canceled == 0') \\\n",
        "        .value_counts('country') \\\n",
        "        .head(5)"
      ],
      "execution_count": 257,
      "outputs": [
        {
          "output_type": "execute_result",
          "data": {
            "text/plain": [
              "country\n",
              "PRT    21071\n",
              "GBR     9676\n",
              "FRA     8481\n",
              "ESP     6391\n",
              "DEU     6069\n",
              "dtype: int64"
            ]
          },
          "metadata": {
            "tags": []
          },
          "execution_count": 257
        }
      ]
    },
    {
      "cell_type": "code",
      "metadata": {
        "colab": {
          "base_uri": "https://localhost:8080/",
          "height": 137
        },
        "id": "ythwwEo756nK",
        "outputId": "ead2fc1f-a911-4e5b-b958-c7a41938e754"
      },
      "source": [
        "# На сколько ночей (stays_total_nights) в среднем бронируют отели типа City Hotel и Resort Hotel\n",
        "\n",
        "bookings.groupby('hotel') \\\n",
        "        .agg({'stays_total_nights':'mean'}) \\\n",
        "        .round(2)"
      ],
      "execution_count": 258,
      "outputs": [
        {
          "output_type": "execute_result",
          "data": {
            "text/html": [
              "<div>\n",
              "<style scoped>\n",
              "    .dataframe tbody tr th:only-of-type {\n",
              "        vertical-align: middle;\n",
              "    }\n",
              "\n",
              "    .dataframe tbody tr th {\n",
              "        vertical-align: top;\n",
              "    }\n",
              "\n",
              "    .dataframe thead th {\n",
              "        text-align: right;\n",
              "    }\n",
              "</style>\n",
              "<table border=\"1\" class=\"dataframe\">\n",
              "  <thead>\n",
              "    <tr style=\"text-align: right;\">\n",
              "      <th></th>\n",
              "      <th>stays_total_nights</th>\n",
              "    </tr>\n",
              "    <tr>\n",
              "      <th>hotel</th>\n",
              "      <th></th>\n",
              "    </tr>\n",
              "  </thead>\n",
              "  <tbody>\n",
              "    <tr>\n",
              "      <th>City Hotel</th>\n",
              "      <td>2.98</td>\n",
              "    </tr>\n",
              "    <tr>\n",
              "      <th>Resort Hotel</th>\n",
              "      <td>4.32</td>\n",
              "    </tr>\n",
              "  </tbody>\n",
              "</table>\n",
              "</div>"
            ],
            "text/plain": [
              "              stays_total_nights\n",
              "hotel                           \n",
              "City Hotel                  2.98\n",
              "Resort Hotel                4.32"
            ]
          },
          "metadata": {
            "tags": []
          },
          "execution_count": 258
        }
      ]
    },
    {
      "cell_type": "code",
      "metadata": {
        "colab": {
          "base_uri": "https://localhost:8080/"
        },
        "id": "VzfuzUlC83EK",
        "outputId": "9f62a766-dd66-498e-f7ae-bbc48dc74e14"
      },
      "source": [
        "# Количество случаев, когда изначальнозабронированный номер (reserved_room_type) отличается от полученного (assigned_room_type)\n",
        "\n",
        "bookings.query('reserved_room_type != assigned_room_type').shape"
      ],
      "execution_count": 259,
      "outputs": [
        {
          "output_type": "execute_result",
          "data": {
            "text/plain": [
              "(14917, 21)"
            ]
          },
          "metadata": {
            "tags": []
          },
          "execution_count": 259
        }
      ]
    },
    {
      "cell_type": "code",
      "metadata": {
        "colab": {
          "base_uri": "https://localhost:8080/",
          "height": 827
        },
        "id": "_QfM6dy8-AGP",
        "outputId": "624914ba-e93a-4ddc-97e3-c13f1d5e3425"
      },
      "source": [
        "# Количесвто бронирований по месяцам\n",
        "\n",
        "bookings_mounth = bookings.groupby(['arrival_date_year', 'arrival_date_month'], as_index = False) \\\n",
        "                          .agg({'hotel' : 'count'}) \\\n",
        "                          .sort_values(['arrival_date_year', 'hotel'], ascending = [True, False])\n",
        "bookings_mounth                     "
      ],
      "execution_count": 260,
      "outputs": [
        {
          "output_type": "execute_result",
          "data": {
            "text/html": [
              "<div>\n",
              "<style scoped>\n",
              "    .dataframe tbody tr th:only-of-type {\n",
              "        vertical-align: middle;\n",
              "    }\n",
              "\n",
              "    .dataframe tbody tr th {\n",
              "        vertical-align: top;\n",
              "    }\n",
              "\n",
              "    .dataframe thead th {\n",
              "        text-align: right;\n",
              "    }\n",
              "</style>\n",
              "<table border=\"1\" class=\"dataframe\">\n",
              "  <thead>\n",
              "    <tr style=\"text-align: right;\">\n",
              "      <th></th>\n",
              "      <th>arrival_date_year</th>\n",
              "      <th>arrival_date_month</th>\n",
              "      <th>hotel</th>\n",
              "    </tr>\n",
              "  </thead>\n",
              "  <tbody>\n",
              "    <tr>\n",
              "      <th>5</th>\n",
              "      <td>2015</td>\n",
              "      <td>September</td>\n",
              "      <td>5114</td>\n",
              "    </tr>\n",
              "    <tr>\n",
              "      <th>4</th>\n",
              "      <td>2015</td>\n",
              "      <td>October</td>\n",
              "      <td>4957</td>\n",
              "    </tr>\n",
              "    <tr>\n",
              "      <th>0</th>\n",
              "      <td>2015</td>\n",
              "      <td>August</td>\n",
              "      <td>3889</td>\n",
              "    </tr>\n",
              "    <tr>\n",
              "      <th>1</th>\n",
              "      <td>2015</td>\n",
              "      <td>December</td>\n",
              "      <td>2920</td>\n",
              "    </tr>\n",
              "    <tr>\n",
              "      <th>2</th>\n",
              "      <td>2015</td>\n",
              "      <td>July</td>\n",
              "      <td>2776</td>\n",
              "    </tr>\n",
              "    <tr>\n",
              "      <th>3</th>\n",
              "      <td>2015</td>\n",
              "      <td>November</td>\n",
              "      <td>2340</td>\n",
              "    </tr>\n",
              "    <tr>\n",
              "      <th>16</th>\n",
              "      <td>2016</td>\n",
              "      <td>October</td>\n",
              "      <td>6203</td>\n",
              "    </tr>\n",
              "    <tr>\n",
              "      <th>14</th>\n",
              "      <td>2016</td>\n",
              "      <td>May</td>\n",
              "      <td>5478</td>\n",
              "    </tr>\n",
              "    <tr>\n",
              "      <th>6</th>\n",
              "      <td>2016</td>\n",
              "      <td>April</td>\n",
              "      <td>5428</td>\n",
              "    </tr>\n",
              "    <tr>\n",
              "      <th>17</th>\n",
              "      <td>2016</td>\n",
              "      <td>September</td>\n",
              "      <td>5394</td>\n",
              "    </tr>\n",
              "    <tr>\n",
              "      <th>12</th>\n",
              "      <td>2016</td>\n",
              "      <td>June</td>\n",
              "      <td>5292</td>\n",
              "    </tr>\n",
              "    <tr>\n",
              "      <th>7</th>\n",
              "      <td>2016</td>\n",
              "      <td>August</td>\n",
              "      <td>5063</td>\n",
              "    </tr>\n",
              "    <tr>\n",
              "      <th>13</th>\n",
              "      <td>2016</td>\n",
              "      <td>March</td>\n",
              "      <td>4824</td>\n",
              "    </tr>\n",
              "    <tr>\n",
              "      <th>11</th>\n",
              "      <td>2016</td>\n",
              "      <td>July</td>\n",
              "      <td>4572</td>\n",
              "    </tr>\n",
              "    <tr>\n",
              "      <th>15</th>\n",
              "      <td>2016</td>\n",
              "      <td>November</td>\n",
              "      <td>4454</td>\n",
              "    </tr>\n",
              "    <tr>\n",
              "      <th>9</th>\n",
              "      <td>2016</td>\n",
              "      <td>February</td>\n",
              "      <td>3891</td>\n",
              "    </tr>\n",
              "    <tr>\n",
              "      <th>8</th>\n",
              "      <td>2016</td>\n",
              "      <td>December</td>\n",
              "      <td>3860</td>\n",
              "    </tr>\n",
              "    <tr>\n",
              "      <th>10</th>\n",
              "      <td>2016</td>\n",
              "      <td>January</td>\n",
              "      <td>2248</td>\n",
              "    </tr>\n",
              "    <tr>\n",
              "      <th>25</th>\n",
              "      <td>2017</td>\n",
              "      <td>May</td>\n",
              "      <td>6313</td>\n",
              "    </tr>\n",
              "    <tr>\n",
              "      <th>18</th>\n",
              "      <td>2017</td>\n",
              "      <td>April</td>\n",
              "      <td>5661</td>\n",
              "    </tr>\n",
              "    <tr>\n",
              "      <th>23</th>\n",
              "      <td>2017</td>\n",
              "      <td>June</td>\n",
              "      <td>5647</td>\n",
              "    </tr>\n",
              "    <tr>\n",
              "      <th>22</th>\n",
              "      <td>2017</td>\n",
              "      <td>July</td>\n",
              "      <td>5313</td>\n",
              "    </tr>\n",
              "    <tr>\n",
              "      <th>24</th>\n",
              "      <td>2017</td>\n",
              "      <td>March</td>\n",
              "      <td>4970</td>\n",
              "    </tr>\n",
              "    <tr>\n",
              "      <th>19</th>\n",
              "      <td>2017</td>\n",
              "      <td>August</td>\n",
              "      <td>4925</td>\n",
              "    </tr>\n",
              "    <tr>\n",
              "      <th>20</th>\n",
              "      <td>2017</td>\n",
              "      <td>February</td>\n",
              "      <td>4177</td>\n",
              "    </tr>\n",
              "    <tr>\n",
              "      <th>21</th>\n",
              "      <td>2017</td>\n",
              "      <td>January</td>\n",
              "      <td>3681</td>\n",
              "    </tr>\n",
              "  </tbody>\n",
              "</table>\n",
              "</div>"
            ],
            "text/plain": [
              "    arrival_date_year arrival_date_month  hotel\n",
              "5                2015          September   5114\n",
              "4                2015            October   4957\n",
              "0                2015             August   3889\n",
              "1                2015           December   2920\n",
              "2                2015               July   2776\n",
              "3                2015           November   2340\n",
              "16               2016            October   6203\n",
              "14               2016                May   5478\n",
              "6                2016              April   5428\n",
              "17               2016          September   5394\n",
              "12               2016               June   5292\n",
              "7                2016             August   5063\n",
              "13               2016              March   4824\n",
              "11               2016               July   4572\n",
              "15               2016           November   4454\n",
              "9                2016           February   3891\n",
              "8                2016           December   3860\n",
              "10               2016            January   2248\n",
              "25               2017                May   6313\n",
              "18               2017              April   5661\n",
              "23               2017               June   5647\n",
              "22               2017               July   5313\n",
              "24               2017              March   4970\n",
              "19               2017             August   4925\n",
              "20               2017           February   4177\n",
              "21               2017            January   3681"
            ]
          },
          "metadata": {
            "tags": []
          },
          "execution_count": 260
        }
      ]
    },
    {
      "cell_type": "code",
      "metadata": {
        "colab": {
          "base_uri": "https://localhost:8080/",
          "height": 106
        },
        "id": "AOLUKbsSwus1",
        "outputId": "52c8b987-30e7-449c-dd0e-1b7bc63e88d2"
      },
      "source": [
        "pd.crosstab(index = bookings_mounth.arrival_date_year, \n",
        "            columns = bookings_mounth.arrival_date_month, \n",
        "            values = bookings_mounth.hotel, \n",
        "            aggfunc = sum).round(decimals = 0) \\\n",
        "            .style.background_gradient(cmap='RdYlGn', axis = 'columns')"
      ],
      "execution_count": 261,
      "outputs": [
        {
          "output_type": "execute_result",
          "data": {
            "text/html": [
              "<style  type=\"text/css\" >\n",
              "#T_e676dcb6_c60b_11eb_849b_0242ac1c0002row0_col0,#T_e676dcb6_c60b_11eb_849b_0242ac1c0002row0_col3,#T_e676dcb6_c60b_11eb_849b_0242ac1c0002row0_col4,#T_e676dcb6_c60b_11eb_849b_0242ac1c0002row0_col6,#T_e676dcb6_c60b_11eb_849b_0242ac1c0002row0_col7,#T_e676dcb6_c60b_11eb_849b_0242ac1c0002row0_col8,#T_e676dcb6_c60b_11eb_849b_0242ac1c0002row2_col2,#T_e676dcb6_c60b_11eb_849b_0242ac1c0002row2_col9,#T_e676dcb6_c60b_11eb_849b_0242ac1c0002row2_col10,#T_e676dcb6_c60b_11eb_849b_0242ac1c0002row2_col11{\n",
              "            background-color:  #000000;\n",
              "            color:  #f1f1f1;\n",
              "        }#T_e676dcb6_c60b_11eb_849b_0242ac1c0002row0_col1,#T_e676dcb6_c60b_11eb_849b_0242ac1c0002row1_col9{\n",
              "            background-color:  #e9f6a1;\n",
              "            color:  #000000;\n",
              "        }#T_e676dcb6_c60b_11eb_849b_0242ac1c0002row0_col2{\n",
              "            background-color:  #f57245;\n",
              "            color:  #000000;\n",
              "        }#T_e676dcb6_c60b_11eb_849b_0242ac1c0002row0_col5{\n",
              "            background-color:  #e75337;\n",
              "            color:  #000000;\n",
              "        }#T_e676dcb6_c60b_11eb_849b_0242ac1c0002row0_col9,#T_e676dcb6_c60b_11eb_849b_0242ac1c0002row1_col4,#T_e676dcb6_c60b_11eb_849b_0242ac1c0002row2_col4{\n",
              "            background-color:  #a50026;\n",
              "            color:  #f1f1f1;\n",
              "        }#T_e676dcb6_c60b_11eb_849b_0242ac1c0002row0_col10{\n",
              "            background-color:  #0e8245;\n",
              "            color:  #f1f1f1;\n",
              "        }#T_e676dcb6_c60b_11eb_849b_0242ac1c0002row0_col11,#T_e676dcb6_c60b_11eb_849b_0242ac1c0002row1_col10,#T_e676dcb6_c60b_11eb_849b_0242ac1c0002row2_col8{\n",
              "            background-color:  #006837;\n",
              "            color:  #f1f1f1;\n",
              "        }#T_e676dcb6_c60b_11eb_849b_0242ac1c0002row1_col0{\n",
              "            background-color:  #63bc62;\n",
              "            color:  #000000;\n",
              "        }#T_e676dcb6_c60b_11eb_849b_0242ac1c0002row1_col1{\n",
              "            background-color:  #9dd569;\n",
              "            color:  #000000;\n",
              "        }#T_e676dcb6_c60b_11eb_849b_0242ac1c0002row1_col2{\n",
              "            background-color:  #fee28f;\n",
              "            color:  #000000;\n",
              "        }#T_e676dcb6_c60b_11eb_849b_0242ac1c0002row1_col3{\n",
              "            background-color:  #fee593;\n",
              "            color:  #000000;\n",
              "        }#T_e676dcb6_c60b_11eb_849b_0242ac1c0002row1_col5{\n",
              "            background-color:  #ddf191;\n",
              "            color:  #000000;\n",
              "        }#T_e676dcb6_c60b_11eb_849b_0242ac1c0002row1_col6{\n",
              "            background-color:  #78c565;\n",
              "            color:  #000000;\n",
              "        }#T_e676dcb6_c60b_11eb_849b_0242ac1c0002row1_col7{\n",
              "            background-color:  #bfe47a;\n",
              "            color:  #000000;\n",
              "        }#T_e676dcb6_c60b_11eb_849b_0242ac1c0002row1_col8{\n",
              "            background-color:  #57b65f;\n",
              "            color:  #000000;\n",
              "        }#T_e676dcb6_c60b_11eb_849b_0242ac1c0002row1_col11{\n",
              "            background-color:  #69be63;\n",
              "            color:  #000000;\n",
              "        }#T_e676dcb6_c60b_11eb_849b_0242ac1c0002row2_col0{\n",
              "            background-color:  #84ca66;\n",
              "            color:  #000000;\n",
              "        }#T_e676dcb6_c60b_11eb_849b_0242ac1c0002row2_col1{\n",
              "            background-color:  #fff6b0;\n",
              "            color:  #000000;\n",
              "        }#T_e676dcb6_c60b_11eb_849b_0242ac1c0002row2_col3{\n",
              "            background-color:  #f16640;\n",
              "            color:  #000000;\n",
              "        }#T_e676dcb6_c60b_11eb_849b_0242ac1c0002row2_col5{\n",
              "            background-color:  #cfeb85;\n",
              "            color:  #000000;\n",
              "        }#T_e676dcb6_c60b_11eb_849b_0242ac1c0002row2_col6{\n",
              "            background-color:  #87cb67;\n",
              "            color:  #000000;\n",
              "        }#T_e676dcb6_c60b_11eb_849b_0242ac1c0002row2_col7{\n",
              "            background-color:  #fffcba;\n",
              "            color:  #000000;\n",
              "        }</style><table id=\"T_e676dcb6_c60b_11eb_849b_0242ac1c0002\" ><thead>    <tr>        <th class=\"index_name level0\" >arrival_date_month</th>        <th class=\"col_heading level0 col0\" >April</th>        <th class=\"col_heading level0 col1\" >August</th>        <th class=\"col_heading level0 col2\" >December</th>        <th class=\"col_heading level0 col3\" >February</th>        <th class=\"col_heading level0 col4\" >January</th>        <th class=\"col_heading level0 col5\" >July</th>        <th class=\"col_heading level0 col6\" >June</th>        <th class=\"col_heading level0 col7\" >March</th>        <th class=\"col_heading level0 col8\" >May</th>        <th class=\"col_heading level0 col9\" >November</th>        <th class=\"col_heading level0 col10\" >October</th>        <th class=\"col_heading level0 col11\" >September</th>    </tr>    <tr>        <th class=\"index_name level0\" >arrival_date_year</th>        <th class=\"blank\" ></th>        <th class=\"blank\" ></th>        <th class=\"blank\" ></th>        <th class=\"blank\" ></th>        <th class=\"blank\" ></th>        <th class=\"blank\" ></th>        <th class=\"blank\" ></th>        <th class=\"blank\" ></th>        <th class=\"blank\" ></th>        <th class=\"blank\" ></th>        <th class=\"blank\" ></th>        <th class=\"blank\" ></th>    </tr></thead><tbody>\n",
              "                <tr>\n",
              "                        <th id=\"T_e676dcb6_c60b_11eb_849b_0242ac1c0002level0_row0\" class=\"row_heading level0 row0\" >2015</th>\n",
              "                        <td id=\"T_e676dcb6_c60b_11eb_849b_0242ac1c0002row0_col0\" class=\"data row0 col0\" >nan</td>\n",
              "                        <td id=\"T_e676dcb6_c60b_11eb_849b_0242ac1c0002row0_col1\" class=\"data row0 col1\" >3889.000000</td>\n",
              "                        <td id=\"T_e676dcb6_c60b_11eb_849b_0242ac1c0002row0_col2\" class=\"data row0 col2\" >2920.000000</td>\n",
              "                        <td id=\"T_e676dcb6_c60b_11eb_849b_0242ac1c0002row0_col3\" class=\"data row0 col3\" >nan</td>\n",
              "                        <td id=\"T_e676dcb6_c60b_11eb_849b_0242ac1c0002row0_col4\" class=\"data row0 col4\" >nan</td>\n",
              "                        <td id=\"T_e676dcb6_c60b_11eb_849b_0242ac1c0002row0_col5\" class=\"data row0 col5\" >2776.000000</td>\n",
              "                        <td id=\"T_e676dcb6_c60b_11eb_849b_0242ac1c0002row0_col6\" class=\"data row0 col6\" >nan</td>\n",
              "                        <td id=\"T_e676dcb6_c60b_11eb_849b_0242ac1c0002row0_col7\" class=\"data row0 col7\" >nan</td>\n",
              "                        <td id=\"T_e676dcb6_c60b_11eb_849b_0242ac1c0002row0_col8\" class=\"data row0 col8\" >nan</td>\n",
              "                        <td id=\"T_e676dcb6_c60b_11eb_849b_0242ac1c0002row0_col9\" class=\"data row0 col9\" >2340.000000</td>\n",
              "                        <td id=\"T_e676dcb6_c60b_11eb_849b_0242ac1c0002row0_col10\" class=\"data row0 col10\" >4957.000000</td>\n",
              "                        <td id=\"T_e676dcb6_c60b_11eb_849b_0242ac1c0002row0_col11\" class=\"data row0 col11\" >5114.000000</td>\n",
              "            </tr>\n",
              "            <tr>\n",
              "                        <th id=\"T_e676dcb6_c60b_11eb_849b_0242ac1c0002level0_row1\" class=\"row_heading level0 row1\" >2016</th>\n",
              "                        <td id=\"T_e676dcb6_c60b_11eb_849b_0242ac1c0002row1_col0\" class=\"data row1 col0\" >5428.000000</td>\n",
              "                        <td id=\"T_e676dcb6_c60b_11eb_849b_0242ac1c0002row1_col1\" class=\"data row1 col1\" >5063.000000</td>\n",
              "                        <td id=\"T_e676dcb6_c60b_11eb_849b_0242ac1c0002row1_col2\" class=\"data row1 col2\" >3860.000000</td>\n",
              "                        <td id=\"T_e676dcb6_c60b_11eb_849b_0242ac1c0002row1_col3\" class=\"data row1 col3\" >3891.000000</td>\n",
              "                        <td id=\"T_e676dcb6_c60b_11eb_849b_0242ac1c0002row1_col4\" class=\"data row1 col4\" >2248.000000</td>\n",
              "                        <td id=\"T_e676dcb6_c60b_11eb_849b_0242ac1c0002row1_col5\" class=\"data row1 col5\" >4572.000000</td>\n",
              "                        <td id=\"T_e676dcb6_c60b_11eb_849b_0242ac1c0002row1_col6\" class=\"data row1 col6\" >5292.000000</td>\n",
              "                        <td id=\"T_e676dcb6_c60b_11eb_849b_0242ac1c0002row1_col7\" class=\"data row1 col7\" >4824.000000</td>\n",
              "                        <td id=\"T_e676dcb6_c60b_11eb_849b_0242ac1c0002row1_col8\" class=\"data row1 col8\" >5478.000000</td>\n",
              "                        <td id=\"T_e676dcb6_c60b_11eb_849b_0242ac1c0002row1_col9\" class=\"data row1 col9\" >4454.000000</td>\n",
              "                        <td id=\"T_e676dcb6_c60b_11eb_849b_0242ac1c0002row1_col10\" class=\"data row1 col10\" >6203.000000</td>\n",
              "                        <td id=\"T_e676dcb6_c60b_11eb_849b_0242ac1c0002row1_col11\" class=\"data row1 col11\" >5394.000000</td>\n",
              "            </tr>\n",
              "            <tr>\n",
              "                        <th id=\"T_e676dcb6_c60b_11eb_849b_0242ac1c0002level0_row2\" class=\"row_heading level0 row2\" >2017</th>\n",
              "                        <td id=\"T_e676dcb6_c60b_11eb_849b_0242ac1c0002row2_col0\" class=\"data row2 col0\" >5661.000000</td>\n",
              "                        <td id=\"T_e676dcb6_c60b_11eb_849b_0242ac1c0002row2_col1\" class=\"data row2 col1\" >4925.000000</td>\n",
              "                        <td id=\"T_e676dcb6_c60b_11eb_849b_0242ac1c0002row2_col2\" class=\"data row2 col2\" >nan</td>\n",
              "                        <td id=\"T_e676dcb6_c60b_11eb_849b_0242ac1c0002row2_col3\" class=\"data row2 col3\" >4177.000000</td>\n",
              "                        <td id=\"T_e676dcb6_c60b_11eb_849b_0242ac1c0002row2_col4\" class=\"data row2 col4\" >3681.000000</td>\n",
              "                        <td id=\"T_e676dcb6_c60b_11eb_849b_0242ac1c0002row2_col5\" class=\"data row2 col5\" >5313.000000</td>\n",
              "                        <td id=\"T_e676dcb6_c60b_11eb_849b_0242ac1c0002row2_col6\" class=\"data row2 col6\" >5647.000000</td>\n",
              "                        <td id=\"T_e676dcb6_c60b_11eb_849b_0242ac1c0002row2_col7\" class=\"data row2 col7\" >4970.000000</td>\n",
              "                        <td id=\"T_e676dcb6_c60b_11eb_849b_0242ac1c0002row2_col8\" class=\"data row2 col8\" >6313.000000</td>\n",
              "                        <td id=\"T_e676dcb6_c60b_11eb_849b_0242ac1c0002row2_col9\" class=\"data row2 col9\" >nan</td>\n",
              "                        <td id=\"T_e676dcb6_c60b_11eb_849b_0242ac1c0002row2_col10\" class=\"data row2 col10\" >nan</td>\n",
              "                        <td id=\"T_e676dcb6_c60b_11eb_849b_0242ac1c0002row2_col11\" class=\"data row2 col11\" >nan</td>\n",
              "            </tr>\n",
              "    </tbody></table>"
            ],
            "text/plain": [
              "<pandas.io.formats.style.Styler at 0x7fef9ff4e450>"
            ]
          },
          "metadata": {
            "tags": []
          },
          "execution_count": 261
        }
      ]
    },
    {
      "cell_type": "code",
      "metadata": {
        "id": "fceKNd89Ml7-"
      },
      "source": [
        "# Количесвто отменённых бронирований по месяцам + разделение на отели\n",
        "\n",
        "bookings_hotel_mounth = bookings.groupby(['hotel', 'arrival_date_year', 'arrival_date_month'], as_index = False) \\\n",
        "                          .agg({'is_canceled' : 'sum'}) \\\n",
        "                          .sort_values(['arrival_date_year', 'is_canceled'], ascending = [True, False])"
      ],
      "execution_count": 262,
      "outputs": []
    },
    {
      "cell_type": "code",
      "metadata": {
        "colab": {
          "base_uri": "https://localhost:8080/",
          "height": 137
        },
        "id": "EpYRCTsARgA4",
        "outputId": "2cf1fca6-c55b-4efc-a1e6-e157c2f5f71b"
      },
      "source": [
        "# Среднее количество детей (сумма children и babies) в каждом типе отеля\n",
        "\n",
        "bookings['total_kids'] = bookings.children + bookings.babies\n",
        "bookings.groupby('hotel') \\\n",
        "        .agg({'total_kids' : 'mean'}) \\\n",
        "        .round(2)"
      ],
      "execution_count": 263,
      "outputs": [
        {
          "output_type": "execute_result",
          "data": {
            "text/html": [
              "<div>\n",
              "<style scoped>\n",
              "    .dataframe tbody tr th:only-of-type {\n",
              "        vertical-align: middle;\n",
              "    }\n",
              "\n",
              "    .dataframe tbody tr th {\n",
              "        vertical-align: top;\n",
              "    }\n",
              "\n",
              "    .dataframe thead th {\n",
              "        text-align: right;\n",
              "    }\n",
              "</style>\n",
              "<table border=\"1\" class=\"dataframe\">\n",
              "  <thead>\n",
              "    <tr style=\"text-align: right;\">\n",
              "      <th></th>\n",
              "      <th>total_kids</th>\n",
              "    </tr>\n",
              "    <tr>\n",
              "      <th>hotel</th>\n",
              "      <th></th>\n",
              "    </tr>\n",
              "  </thead>\n",
              "  <tbody>\n",
              "    <tr>\n",
              "      <th>City Hotel</th>\n",
              "      <td>0.10</td>\n",
              "    </tr>\n",
              "    <tr>\n",
              "      <th>Resort Hotel</th>\n",
              "      <td>0.14</td>\n",
              "    </tr>\n",
              "  </tbody>\n",
              "</table>\n",
              "</div>"
            ],
            "text/plain": [
              "              total_kids\n",
              "hotel                   \n",
              "City Hotel          0.10\n",
              "Resort Hotel        0.14"
            ]
          },
          "metadata": {
            "tags": []
          },
          "execution_count": 263
        }
      ]
    },
    {
      "cell_type": "code",
      "metadata": {
        "colab": {
          "base_uri": "https://localhost:8080/",
          "height": 137
        },
        "id": "YwWc8fxaTCIX",
        "outputId": "2b4e5992-03d7-40c9-dc8f-8d1ac558ccd3"
      },
      "source": [
        "# Вычисление Churn rate (отток, коэффициент оттока) для клиентов с детьми и без\n",
        "\n",
        "bookings['has_kids'] = bookings['total_kids'] > 0\n",
        "bookings.groupby('has_kids').agg({'is_canceled': 'mean'}).round(4)*100"
      ],
      "execution_count": 264,
      "outputs": [
        {
          "output_type": "execute_result",
          "data": {
            "text/html": [
              "<div>\n",
              "<style scoped>\n",
              "    .dataframe tbody tr th:only-of-type {\n",
              "        vertical-align: middle;\n",
              "    }\n",
              "\n",
              "    .dataframe tbody tr th {\n",
              "        vertical-align: top;\n",
              "    }\n",
              "\n",
              "    .dataframe thead th {\n",
              "        text-align: right;\n",
              "    }\n",
              "</style>\n",
              "<table border=\"1\" class=\"dataframe\">\n",
              "  <thead>\n",
              "    <tr style=\"text-align: right;\">\n",
              "      <th></th>\n",
              "      <th>is_canceled</th>\n",
              "    </tr>\n",
              "    <tr>\n",
              "      <th>has_kids</th>\n",
              "      <th></th>\n",
              "    </tr>\n",
              "  </thead>\n",
              "  <tbody>\n",
              "    <tr>\n",
              "      <th>False</th>\n",
              "      <td>37.22</td>\n",
              "    </tr>\n",
              "    <tr>\n",
              "      <th>True</th>\n",
              "      <td>34.92</td>\n",
              "    </tr>\n",
              "  </tbody>\n",
              "</table>\n",
              "</div>"
            ],
            "text/plain": [
              "          is_canceled\n",
              "has_kids             \n",
              "False           37.22\n",
              "True            34.92"
            ]
          },
          "metadata": {
            "tags": []
          },
          "execution_count": 264
        }
      ]
    },
    {
      "cell_type": "code",
      "metadata": {
        "id": "atPuj2E4XnQM"
      },
      "source": [
        ""
      ],
      "execution_count": 264,
      "outputs": []
    }
  ]
}