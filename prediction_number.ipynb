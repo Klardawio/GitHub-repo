{
  "nbformat": 4,
  "nbformat_minor": 0,
  "metadata": {
    "kernelspec": {
      "display_name": "Python 3",
      "language": "python",
      "name": "python3"
    },
    "language_info": {
      "codemirror_mode": {
        "name": "ipython",
        "version": 3
      },
      "file_extension": ".py",
      "mimetype": "text/x-python",
      "name": "python",
      "nbconvert_exporter": "python",
      "pygments_lexer": "ipython3",
      "version": "3.8.5"
    },
    "colab": {
      "name": "prediction rulet.ipynb",
      "provenance": [],
      "include_colab_link": true
    }
  },
  "cells": [
    {
      "cell_type": "markdown",
      "metadata": {
        "id": "view-in-github",
        "colab_type": "text"
      },
      "source": [
        "<a href=\"https://colab.research.google.com/github/Klardawio/GitHub-repo/blob/main/prediction_rulet.ipynb\" target=\"_parent\"><img src=\"https://colab.research.google.com/assets/colab-badge.svg\" alt=\"Open In Colab\"/></a>"
      ]
    },
    {
      "cell_type": "code",
      "metadata": {
        "id": "T-peHqAyJCre"
      },
      "source": [
        "\n",
        "import os\n",
        "import pandas as pd\n",
        "\n",
        "# считываем выпавшие числа из блокнотов\n",
        "numbers=[]\n",
        "files = os.listdir('Rulet') #bloknots\n",
        "\n",
        "def add_numbers(file_name):    # function for adding numbers\n",
        "    numbers=[]\n",
        "    with open('Rulet/'+file_name) as rd:\n",
        "        for line in rd:\n",
        "            number=(line[-3:])\n",
        "            numbers.append(number.replace(' ','').replace('\\n',''))\n",
        "    return(numbers)\n",
        "\n",
        "for file in files:\n",
        "    numbers+=add_numbers(file)"
      ],
      "execution_count": null,
      "outputs": []
    },
    {
      "cell_type": "code",
      "metadata": {
        "id": "B9HaeIZ4JCrj",
        "outputId": "cbdd1174-8b54-4af8-92f5-e3cedbb61930"
      },
      "source": [
        "# DataFrame !\n",
        "\n",
        "df = pd.DataFrame(numbers,columns = ['number'])\n",
        "prev_numb_lenght = 5\n",
        "\n",
        "# df = pd.DataFrame(pd.to_numeric(numbers),columns = ['number']) # Change numbers to numeric\n",
        "\n",
        "\n",
        "for prev in range(prev_numb_lenght):\n",
        "    p = prev+1\n",
        "    df[f'prev_num_{p}'] = df['number'].shift(p)\n",
        "    \n",
        "df.dropna(inplace=True) # Выкидываем все строки с пустотами\n",
        "df.head(3)\n"
      ],
      "execution_count": null,
      "outputs": [
        {
          "output_type": "execute_result",
          "data": {
            "text/html": [
              "<div>\n",
              "<style scoped>\n",
              "    .dataframe tbody tr th:only-of-type {\n",
              "        vertical-align: middle;\n",
              "    }\n",
              "\n",
              "    .dataframe tbody tr th {\n",
              "        vertical-align: top;\n",
              "    }\n",
              "\n",
              "    .dataframe thead th {\n",
              "        text-align: right;\n",
              "    }\n",
              "</style>\n",
              "<table border=\"1\" class=\"dataframe\">\n",
              "  <thead>\n",
              "    <tr style=\"text-align: right;\">\n",
              "      <th></th>\n",
              "      <th>number</th>\n",
              "      <th>prev_num_1</th>\n",
              "      <th>prev_num_2</th>\n",
              "      <th>prev_num_3</th>\n",
              "      <th>prev_num_4</th>\n",
              "      <th>prev_num_5</th>\n",
              "    </tr>\n",
              "  </thead>\n",
              "  <tbody>\n",
              "    <tr>\n",
              "      <th>5</th>\n",
              "      <td>14</td>\n",
              "      <td>35</td>\n",
              "      <td>30</td>\n",
              "      <td>4</td>\n",
              "      <td>27</td>\n",
              "      <td>36</td>\n",
              "    </tr>\n",
              "    <tr>\n",
              "      <th>6</th>\n",
              "      <td>33</td>\n",
              "      <td>14</td>\n",
              "      <td>35</td>\n",
              "      <td>30</td>\n",
              "      <td>4</td>\n",
              "      <td>27</td>\n",
              "    </tr>\n",
              "    <tr>\n",
              "      <th>7</th>\n",
              "      <td>17</td>\n",
              "      <td>33</td>\n",
              "      <td>14</td>\n",
              "      <td>35</td>\n",
              "      <td>30</td>\n",
              "      <td>4</td>\n",
              "    </tr>\n",
              "  </tbody>\n",
              "</table>\n",
              "</div>"
            ],
            "text/plain": [
              "  number prev_num_1 prev_num_2 prev_num_3 prev_num_4 prev_num_5\n",
              "5     14         35         30          4         27         36\n",
              "6     33         14         35         30          4         27\n",
              "7     17         33         14         35         30          4"
            ]
          },
          "metadata": {
            "tags": []
          },
          "execution_count": 319
        }
      ]
    },
    {
      "cell_type": "code",
      "metadata": {
        "id": "lWNDgGjqJCrn"
      },
      "source": [
        "# Model ???\n",
        "\n",
        "# Делим на \"вход\" (X) и выход (Y)\n",
        "# X — то, на основе чего мы делаем проноз\n",
        "# Y — то, что мы прогнозируем\n",
        "\n",
        "X = df.drop(\"number\", axis=1) # Все кроме колонки number\n",
        "y = df[\"number\"]\n",
        "\n",
        "from sklearn.model_selection import train_test_split\n",
        "X_train, X_test, y_train, y_test = train_test_split(X, y, test_size=0.1)\n",
        "\n"
      ],
      "execution_count": null,
      "outputs": []
    },
    {
      "cell_type": "code",
      "metadata": {
        "id": "MeIwETeMJCro",
        "outputId": "2625e679-0bb4-4ae9-e021-d7f608d9faeb"
      },
      "source": [
        "from sklearn.linear_model import LinearRegression\n",
        "\n",
        "model = LinearRegression() # настройки в скобочках\n",
        "model.fit(X_train, y_train)\n",
        "\n",
        "prediction = model.predict(X_test)\n",
        "\n",
        "from sklearn.metrics import mean_absolute_error\n",
        "from sklearn.metrics import max_error\n",
        "\n",
        "print(\"MAE\", mean_absolute_error(y_test, prediction))\n",
        "print(\"MAX\", max_error(y_test, prediction))\n",
        "\n",
        "prediction"
      ],
      "execution_count": null,
      "outputs": [
        {
          "output_type": "stream",
          "text": [
            "MAE 9.443483983389767\n",
            "MAX 18.625625229478008\n"
          ],
          "name": "stdout"
        },
        {
          "output_type": "execute_result",
          "data": {
            "text/plain": [
              "array([17.49113636, 17.55410396, 17.55299829, ..., 17.5731641 ,\n",
              "       17.48327878, 17.37150276])"
            ]
          },
          "metadata": {
            "tags": []
          },
          "execution_count": 321
        }
      ]
    },
    {
      "cell_type": "code",
      "metadata": {
        "id": "b-ZkX9gvJCro",
        "outputId": "59c440cc-04e1-486d-9d79-ecddab40a844"
      },
      "source": [
        "from sklearn.linear_model import Lasso\n",
        "\n",
        "model = Lasso() # настройки в скобочках\n",
        "model.fit(X_train, y_train)\n",
        "\n",
        "prediction = model.predict(X_test)\n",
        "\n",
        "from sklearn.metrics import mean_absolute_error\n",
        "from sklearn.metrics import max_error\n",
        "\n",
        "print(\"MAE\", mean_absolute_error(y_test, prediction))\n",
        "print(\"MAX\", max_error(y_test, prediction))"
      ],
      "execution_count": null,
      "outputs": [
        {
          "output_type": "stream",
          "text": [
            "MAE 9.444363397083201\n",
            "MAX 18.431924585600406\n"
          ],
          "name": "stdout"
        }
      ]
    },
    {
      "cell_type": "code",
      "metadata": {
        "id": "re12rlllJCrp",
        "outputId": "2f48294f-dbf7-4483-c877-a89cdc780abc"
      },
      "source": [
        "from sklearn.ensemble import RandomForestClassifier\n",
        "\n",
        "model = RandomForestClassifier()\n",
        "model.fit(X_train, y_train)\n",
        "prediction = model.predict(X_test)\n",
        "print(\"MAE\", mean_absolute_error(y_test, prediction))\n",
        "print(\"MAX\", max_error(y_test, prediction))\n",
        "prediction\n",
        "print(y_test, prediction)"
      ],
      "execution_count": null,
      "outputs": [
        {
          "output_type": "stream",
          "text": [
            "MAE 12.414342629482071\n",
            "MAX 36.0\n",
            "7819      1\n",
            "6013     27\n",
            "11358    31\n",
            "17168     5\n",
            "6863     24\n",
            "         ..\n",
            "12399     4\n",
            "7453     36\n",
            "15136    36\n",
            "2887     26\n",
            "12487    22\n",
            "Name: number, Length: 1757, dtype: object ['29' '25' '33' ... '17' '00' '24']\n"
          ],
          "name": "stdout"
        }
      ]
    },
    {
      "cell_type": "code",
      "metadata": {
        "id": "41-NFe9CJCrq"
      },
      "source": [
        ""
      ],
      "execution_count": null,
      "outputs": []
    }
  ]
}